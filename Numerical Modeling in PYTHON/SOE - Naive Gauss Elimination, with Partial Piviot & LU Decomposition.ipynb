{
 "cells": [
  {
   "cell_type": "markdown",
   "metadata": {},
   "source": [
    "# System Of Equations"
   ]
  },
  {
   "cell_type": "markdown",
   "metadata": {},
   "source": [
    "## Gauss Elimination"
   ]
  },
  {
   "cell_type": "code",
   "execution_count": 7,
   "metadata": {},
   "outputs": [],
   "source": [
    "import numpy as np\n",
    "from numpy import array, zeros"
   ]
  },
  {
   "cell_type": "code",
   "execution_count": 8,
   "metadata": {},
   "outputs": [
    {
     "name": "stdout",
     "output_type": "stream",
     "text": [
      "The solution of the system:\n",
      "[1. 2. 3. 4.]\n"
     ]
    }
   ],
   "source": [
    "#Input System of Equations\n",
    "a = array([[1, 2, -1, 1],\n",
    "           [-1, 1, 2, -1],\n",
    "           [2, -1, 2, 2],\n",
    "           [1, 1, -1, 2]],float)\n",
    "b = array([6, 3, 14, 8], float)\n",
    "n = len(b)\n",
    "x = zeros(n, float)\n",
    "\n",
    "#Forward Elimination\n",
    "for k in range(n-1):  \n",
    "    for i in range(k+1, n):\n",
    "        fctr = a[i, k] / a[k, k]\n",
    "        for j in range(k, n):\n",
    "            a[i, j] = a[i, j] - fctr*a[k, j]\n",
    "        b[i] = b[i] - fctr*b[k]\n",
    "                       \n",
    "#Back-substitution\n",
    "x[n-1] = b[n-1] / a[n-1, n-1]\n",
    "for i in range(n-2, -1, -1):\n",
    "    Sum = b[i]\n",
    "    for j in range(i+1, n):\n",
    "        Sum = Sum - a[i, j]*x[j]\n",
    "    x[i] = Sum/a[i, i]\n",
    "\n",
    "print('The solution of the system:')\n",
    "print(x)"
   ]
  },
  {
   "cell_type": "code",
   "execution_count": 9,
   "metadata": {},
   "outputs": [
    {
     "name": "stdout",
     "output_type": "stream",
     "text": [
      "The solution of the system:\n",
      "[ 753.54162239   48.1011927  -741.71428274  203.36832848 1148.59672767]\n"
     ]
    }
   ],
   "source": [
    "#Input System of Equations\n",
    "a = array([[2.117, 2, 0, 0, 0],\n",
    "           [2.8235, -4, 0, 0, 0],\n",
    "           [0.7058, -0.666, 1, 0, 0], \n",
    "           [-0.5294, -0.33, 0, 1, 0],\n",
    "           [-0.4705, -0.666, 0, 0, 1]],float)\n",
    "b = array([1691.45 ,1935.22, -241.9, -211.43, 762.02], float)\n",
    "n = len(b)\n",
    "x = zeros(n, float)\n",
    "\n",
    "#Forward Elimination\n",
    "for k in range(n-1):  \n",
    "    for i in range(k+1, n):\n",
    "        fctr = a[i, k] / a[k, k]\n",
    "        for j in range(k, n):\n",
    "            a[i, j] = a[i, j] - fctr*a[k, j]\n",
    "        b[i] = b[i] - fctr*b[k]\n",
    "                       \n",
    "#Back-substitution\n",
    "x[n-1] = b[n-1] / a[n-1, n-1]\n",
    "for i in range(n-2, -1, -1):\n",
    "    Sum = b[i]\n",
    "    for j in range(i+1, n):\n",
    "        Sum = Sum - a[i, j]*x[j]\n",
    "    x[i] = Sum/a[i, i]\n",
    "\n",
    "print('The solution of the system:')\n",
    "print(x)"
   ]
  },
  {
   "cell_type": "markdown",
   "metadata": {},
   "source": [
    "## Guess Elimination With Partial Pivot"
   ]
  },
  {
   "cell_type": "code",
   "execution_count": 10,
   "metadata": {},
   "outputs": [
    {
     "name": "stdout",
     "output_type": "stream",
     "text": [
      "The solution of the system:\n",
      "[0.98550725 1.46376812 0.91304348]\n"
     ]
    }
   ],
   "source": [
    "from numpy import array, zeros\n",
    "a = array([[0, -3, 7, 2],\n",
    "           [1, 2, -1, 3],\n",
    "           [5, -2, 0, 2]],float)\n",
    "n = 3\n",
    "x = zeros(n, float)\n",
    "\n",
    "#Elimination\n",
    "for k in range(1, n):  \n",
    "    #Pivoting - Identify the largest Absolute value in Column 1\n",
    "    p = k\n",
    "    big = abs(a[k-1, k-1])\n",
    "    for ii in range(k + 1, n+1):\n",
    "        dummy = abs(a[ii-1, k-1])\n",
    "        if dummy > big:\n",
    "            big = dummy\n",
    "            p = ii\n",
    "    #Pivoting - Swaping Rows\n",
    "    if p != k:\n",
    "        for jj in range(k, n+1):\n",
    "            dummy = a[p-1, jj-1]\n",
    "            a[p-1, jj-1] = a[k-1, jj-1]\n",
    "            a[k-1, jj-1] = dummy\n",
    "        dummy = a[p-1, n]\n",
    "        a[p-1, n] = a[k-1, n]\n",
    "        a[k-1, n] = dummy\n",
    "\n",
    "    #Forward Elimination\n",
    "    for i in range(k + 1, n+1):\n",
    "        factor = a[i-1, k-1] / a[k-1, k-1]\n",
    "        for j in range(1,n+2):\n",
    "            a[i-1, j-1] = a[i-1, j-1] - factor * a[k-1, j-1]\n",
    "        \n",
    "#Backward Substitution\n",
    "x[n-1] = a[n-1, n] / a[n-1, n-1]\n",
    "for i in range(n-1, 0, -1):\n",
    "    Sum = a[i-1, n]\n",
    "    for j in range(i + 1, n+1):\n",
    "        Sum = Sum - a[i-1, j-1] * x[j-1]\n",
    "    x[i-1] = Sum / a[i-1, i-1]\n",
    "\n",
    "print('The solution of the system:')\n",
    "print(x)"
   ]
  },
  {
   "cell_type": "markdown",
   "metadata": {},
   "source": [
    "##  LU Decomposition"
   ]
  },
  {
   "cell_type": "code",
   "execution_count": 11,
   "metadata": {},
   "outputs": [
    {
     "name": "stdout",
     "output_type": "stream",
     "text": [
      "The solution of the system:\n",
      "[1. 1. 1.]\n"
     ]
    }
   ],
   "source": [
    "from numpy import array, zeros\n",
    "a = array([[8, 4, -1],\n",
    "           [-2, 5, 1],\n",
    "           [2, -1, 6]],float)\n",
    "b = array([11,4, 7], float)\n",
    "n = len(b)\n",
    "\n",
    "U = np.zeros((n, n)); L = np.zeros((n, n)) ; d = np.zeros(n); x = np.zeros(n)\n",
    "\n",
    "#Place U equal to a\n",
    "for i in range(0,n):\n",
    "    for j in range(0,n):\n",
    "        U[i,j]=a[i,j]\n",
    "\n",
    "#Decomposing Matrix A into matrices L and U.\n",
    "for k in range(1,n+1):\n",
    "    #Forward Elimination\n",
    "    for i in range(k + 1, n+1):\n",
    "        factor = U[i-1, k-1] / U[k-1, k-1]\n",
    "        for j in range(1,n+1):\n",
    "            U[i-1, j-1] = U[i-1, j-1] - factor * U[k-1, j-1]\n",
    "        L[i-1, k-1] = factor\n",
    "    L[k-1, k-1] = 1\n",
    "\n",
    "#Forward Substitution\n",
    "d[0] = b[0]\n",
    "for i in range(2, n+1):\n",
    "    Sum = b[i-1]\n",
    "    for j in range(1, i):\n",
    "        Sum = Sum - L[i-1, j-1] * d[j-1]\n",
    "    d[i-1] = Sum\n",
    "\n",
    "#Backward Substitution\n",
    "x[n-1] = d[n-1] / U[n-1, n-1]\n",
    "for i in range(n-1, 0, -1):\n",
    "    Sum = d[i-1]\n",
    "    for j in range(i + 1, n+1):\n",
    "        Sum = Sum - U[i-1, j-1] * x[j-1]\n",
    "    x[i-1] = Sum / U[i-1, i-1]\n",
    "\n",
    "print('The solution of the system:')\n",
    "print(x)"
   ]
  },
  {
   "cell_type": "markdown",
   "metadata": {},
   "source": [
    "## LU Decomposition with A Inverse"
   ]
  },
  {
   "cell_type": "code",
   "execution_count": 12,
   "metadata": {},
   "outputs": [
    {
     "name": "stdout",
     "output_type": "stream",
     "text": [
      "The solution of the system:\n",
      "[1. 1. 1.]\n"
     ]
    }
   ],
   "source": [
    "from numpy import array, zeros\n",
    "a = array([[8, 4, -1],\n",
    "           [-2, 5, 1],\n",
    "           [2, -1, 6]],float)\n",
    "b = array([11,4, 7], float)\n",
    "n = len(b)\n",
    "\n",
    "U = np.zeros((n, n)); L = np.zeros((n, n)); d = np.zeros(n); x = np.zeros(n); Id = np.zeros((n, n)); IM = np.zeros((n, n))\n",
    "\n",
    "#Place U equal to a\n",
    "for i in range(0,n):\n",
    "    for j in range(0,n):\n",
    "        U[i,j]=a[i,j]\n",
    "\n",
    "#Decomposing Matrix A into matrices L and U.\n",
    "for k in range(1,n+1):\n",
    "    #Forward Elimination\n",
    "    for i in range(k + 1, n+1):\n",
    "        factor = U[i-1, k-1] / U[k-1, k-1]\n",
    "        for j in range(1,n+1):\n",
    "            U[i-1, j-1] = U[i-1, j-1] - factor * U[k-1, j-1]\n",
    "        L[i-1, k-1] = factor\n",
    "    L[k-1, k-1] = 1\n",
    "    \n",
    "#Create Identity Matrix\n",
    "for i in range(1, n+1):\n",
    "    for j in range(1, n+1):\n",
    "        if i == j:\n",
    "            Id[i-1, j-1] = 1\n",
    "        else:\n",
    "            Id[i-1, j-1] = 0\n",
    "            \n",
    "#Create [A]-1\n",
    "for k in range(1, n+1):\n",
    "    #Forward Substitution\n",
    "    d[0] = Id[0, k-1]\n",
    "    for i in range(2, n+1):\n",
    "        Sum = Id[i-1, k-1]\n",
    "        for j in range(1, i):\n",
    "            Sum = Sum - L[i-1, j-1] * d[j-1]\n",
    "        d[i-1] = Sum\n",
    "        \n",
    "    #Backward Substitution\n",
    "    IM[n-1, k-1] = d[n-1] / U[n-1, n-1]\n",
    "    for i in range(n-1, 0,-1):\n",
    "        Sum = d[i-1]\n",
    "        for j in range(i + 1, n+1):\n",
    "            Sum = Sum - U[i-1, j-1] * IM[j-1, k-1]\n",
    "        IM[i-1, k-1] = Sum / U[i-1, i-1]\n",
    "        \n",
    "#Multiply Inverse of A and b to obtain x. ' {x}= [A_inverse] * {b}\n",
    "for i in range(1, n+1):\n",
    "    Sum = 0\n",
    "    for j in range(1, n+1):\n",
    "        Sum = Sum + IM[i-1, j-1] * b[j-1]\n",
    "    x[i-1] = Sum   \n",
    "    \n",
    "print('The solution of the system:')\n",
    "print(x)"
   ]
  }
 ],
 "metadata": {
  "kernelspec": {
   "display_name": "Python 3 (ipykernel)",
   "language": "python",
   "name": "python3"
  },
  "language_info": {
   "codemirror_mode": {
    "name": "ipython",
    "version": 3
   },
   "file_extension": ".py",
   "mimetype": "text/x-python",
   "name": "python",
   "nbconvert_exporter": "python",
   "pygments_lexer": "ipython3",
   "version": "3.9.12"
  }
 },
 "nbformat": 4,
 "nbformat_minor": 2
}

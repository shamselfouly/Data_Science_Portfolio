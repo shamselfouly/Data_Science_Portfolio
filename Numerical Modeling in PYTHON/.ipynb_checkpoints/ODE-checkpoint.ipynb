{
 "cells": [
  {
   "cell_type": "code",
   "execution_count": 2,
   "metadata": {},
   "outputs": [],
   "source": [
    "import math\n",
    "import numpy as np\n",
    "import matplotlib.pyplot as plt\n",
    "from IPython.display import Image\n",
    "%matplotlib inline"
   ]
  },
  {
   "cell_type": "markdown",
   "metadata": {},
   "source": [
    "# Ordinary Differiantial Equations & Runge Kutta Methods"
   ]
  },
  {
   "cell_type": "markdown",
   "metadata": {},
   "source": [
    "## Examples"
   ]
  },
  {
   "cell_type": "code",
   "execution_count": null,
   "metadata": {},
   "outputs": [],
   "source": [
    "#Example1\n",
    "dy = lambda x,y: x * math.sqrt(y)\n",
    "f = lambda x: (1+0.25*x**2)**2\n",
    "y = 4; x = 2\n",
    "xi = 2; xf = 7\n",
    "\n",
    "#Example2\n",
    "dy = lambda t,y: math.sin(t)**2*y\n",
    "f = lambda t: 2*math.exp(0.5*(t-math.sin(t)*math.cos(t)))\n",
    "y = 2; x = 0\n",
    "xi = 0; xf = 5\n",
    "\n",
    "#Example3\n",
    "dy = lambda x,y: 2*y\n",
    "f = lambda x: math.exp(2*x)\n",
    "y = 1; x = 0\n",
    "xi = 0; xf=1\n",
    "\n",
    "#Example#4\n",
    "dy = lambda x,y: x*y\n",
    "f = lambda x: math.exp(x**2/2)\n",
    "y=1; x = 0\n",
    "xf = 2\n",
    "\n",
    "#Example#5\n",
    "dy = lambda x,y: y+3\n",
    "f = lambda x: math.exp(x-2) - 3\n",
    "y=-2; x = 2\n",
    "xi = 2; xf = 4\n"
   ]
  },
  {
   "cell_type": "markdown",
   "metadata": {},
   "source": [
    "## Problem Information "
   ]
  },
  {
   "cell_type": "code",
   "execution_count": 27,
   "metadata": {},
   "outputs": [],
   "source": [
    "#Functions\n",
    "dy = lambda x,y: y+3\n",
    "f = lambda x: np.exp(x-2) - 3\n",
    "\n",
    "#Set integraxion limits & Calculate number of Calculations\n",
    "xi = 2; xf = 4\n",
    "h = 0.5\n",
    "n = int((xf - xi) / h)"
   ]
  },
  {
   "cell_type": "markdown",
   "metadata": {},
   "source": [
    "## Euler - 1st Order Runge Kutta"
   ]
  },
  {
   "cell_type": "code",
   "execution_count": 28,
   "metadata": {},
   "outputs": [
    {
     "name": "stdout",
     "output_type": "stream",
     "text": [
      "x  \t\t y\n",
      "2.000000 \t -2.000000\n",
      "2.500000 \t -1.500000\n",
      "3.000000 \t -0.750000\n",
      "3.500000 \t 0.375000\n",
      "4.000000 \t 2.062500\n"
     ]
    },
    {
     "data": {
      "text/plain": [
       "<matplotlib.legend.Legend at 0x2161c009888>"
      ]
     },
     "execution_count": 28,
     "metadata": {},
     "output_type": "execute_result"
    },
    {
     "data": {
      "image/png": "[encoded data removed]",
      "text/plain": [
       "<Figure size 432x288 with 1 Axes>"
      ]
     },
     "metadata": {
      "needs_background": "light"
     },
     "output_type": "display_data"
    }
   ],
   "source": [
    "#Initial Condition\n",
    "y=-2; x = 2\n",
    "\n",
    "#Visualization Code initialization\n",
    "print ('x  \\t\\t y'); print ('%f \\t %f'% (x, y))\n",
    "x1= []; x2 = []; x3 = []\n",
    "\n",
    "#Euler's Method\n",
    "for i in range(1, n+1): \n",
    "    x1.append(x); x2.append(y); x3.append(f(x))\n",
    "    y = y + dy(x, y) * h\n",
    "    x = x + h\n",
    "    print ('%f \\t %f'% (x, y))\n",
    "\n",
    "#Visulaization Code\n",
    "x1.append(x); x2.append(y); x3.append(f(x))\n",
    "plt.plot(x1,x2,'ro',x1,x3)\n",
    "plt.xlabel('x')\n",
    "plt.ylabel('y')\n",
    "plt.legend([\"Euler's\", 'Analytical'])"
   ]
  },
  {
   "cell_type": "markdown",
   "metadata": {},
   "source": [
    "## Heun's - 2nd Order Runge Kutta"
   ]
  },
  {
   "cell_type": "code",
   "execution_count": 29,
   "metadata": {},
   "outputs": [
    {
     "name": "stdout",
     "output_type": "stream",
     "text": [
      "x  \t\t y\n",
      "2.000000 \t -2.000000\n",
      "2.500000 \t -1.375000\n",
      "3.000000 \t -0.359375\n",
      "3.500000 \t 1.291016\n",
      "4.000000 \t 3.972900\n"
     ]
    },
    {
     "data": {
      "text/plain": [
       "<matplotlib.legend.Legend at 0x2161c0a36c8>"
      ]
     },
     "execution_count": 29,
     "metadata": {},
     "output_type": "execute_result"
    },
    {
     "data": {
      "image/png": "[encoded data removed]",
      "text/plain": [
       "<Figure size 432x288 with 1 Axes>"
      ]
     },
     "metadata": {
      "needs_background": "light"
     },
     "output_type": "display_data"
    }
   ],
   "source": [
    "#Initial Condition\n",
    "y=-2; x = 2\n",
    "\n",
    "#Visualization Code initialization\n",
    "print ('x  \\t\\t y'); print ('%f \\t %f'% (x, y))\n",
    "x1= []; x2 = []; x3 = []\n",
    "\n",
    "#Heun's Method\n",
    "for i in range(1, n+1):\n",
    "    x1.append(x); x2.append(y); x3.append(f(x))\n",
    "    #Apply Euler Method xo Get y at end of interval\n",
    "    dy1 = dy(x,y) \n",
    "    ye = y + dy1 * h\n",
    "    #Calculaxe derivative ax end point\n",
    "    dy2 = dy(x+h, ye)\n",
    "    #Calculate new y estimation\n",
    "    y = y + (dy1 + dy2)/2 * h\n",
    "    x = x + h\n",
    "    print ('%f \\t %f'% (x, y))\n",
    "    \n",
    "#Visulaization Code\n",
    "x1.append(x); x2.append(y); x3.append(f(x))\n",
    "plt.plot(x1,x2,'ro',x1,x3)\n",
    "plt.xlabel('x')\n",
    "plt.ylabel('y')\n",
    "plt.legend([\"Heun's\", 'Analytical'])"
   ]
  },
  {
   "cell_type": "markdown",
   "metadata": {},
   "source": [
    "## Midpoint - 2nd Order Runge Kutta"
   ]
  },
  {
   "cell_type": "code",
   "execution_count": 30,
   "metadata": {},
   "outputs": [
    {
     "name": "stdout",
     "output_type": "stream",
     "text": [
      "x  \t\t y\n",
      "2.000000 \t -2.000000\n",
      "2.500000 \t -1.375000\n",
      "3.000000 \t -0.359375\n",
      "3.500000 \t 1.291016\n",
      "4.000000 \t 3.972900\n"
     ]
    },
    {
     "data": {
      "text/plain": [
       "<matplotlib.legend.Legend at 0x2161c120c88>"
      ]
     },
     "execution_count": 30,
     "metadata": {},
     "output_type": "execute_result"
    },
    {
     "data": {
      "image/png": "[encoded data removed]",
      "text/plain": [
       "<Figure size 432x288 with 1 Axes>"
      ]
     },
     "metadata": {
      "needs_background": "light"
     },
     "output_type": "display_data"
    }
   ],
   "source": [
    "#Initial Condition\n",
    "y=-2; x = 2\n",
    "\n",
    "#Visualization Code initialization\n",
    "print ('x  \\t\\t y'); print ('%f \\t %f'% (x, y))\n",
    "x1= []; x2 = []; x3 = []\n",
    "\n",
    "#Midpoint Method\n",
    "for i in range(1, n+1):\n",
    "    x1.append(x); x2.append(y); x3.append(f(x))\n",
    "    #Apply Euler Method xo Get y at end of interval\n",
    "    dy1 = dy(x,y) \n",
    "    ym = y + dy1 * h/2\n",
    "    #Calculaxe derivative ax end point\n",
    "    dym = dy(x+h/2, ym)\n",
    "    #Calculate new y estimation\n",
    "    y = y + dym * h\n",
    "    x = x + h    \n",
    "    print ('%f \\t %f'% (x, y)) \n",
    "\n",
    "#Visulaization Code\n",
    "x1.append(x); x2.append(y); x3.append(f(x))\n",
    "plt.plot(x1,x2,'ro',x1,x3)\n",
    "plt.xlabel('x')\n",
    "plt.ylabel('y')\n",
    "plt.legend([\"Midpoint\", 'Analytical'])"
   ]
  },
  {
   "cell_type": "markdown",
   "metadata": {},
   "source": [
    "## Ralston - 2nd Order Runge Kutta"
   ]
  },
  {
   "cell_type": "code",
   "execution_count": 31,
   "metadata": {},
   "outputs": [
    {
     "name": "stdout",
     "output_type": "stream",
     "text": [
      "x  \t\t y\n",
      "2.000000 \t -2.000000\n",
      "2.500000 \t -1.375000\n",
      "3.000000 \t -0.359375\n",
      "3.500000 \t 1.291016\n",
      "4.000000 \t 3.972900\n"
     ]
    },
    {
     "data": {
      "text/plain": [
       "<matplotlib.legend.Legend at 0x2161c1a7e48>"
      ]
     },
     "execution_count": 31,
     "metadata": {},
     "output_type": "execute_result"
    },
    {
     "data": {
      "image/png": "[encoded data removed]",
      "text/plain": [
       "<Figure size 432x288 with 1 Axes>"
      ]
     },
     "metadata": {
      "needs_background": "light"
     },
     "output_type": "display_data"
    }
   ],
   "source": [
    "#Initial Condition\n",
    "y=-2; x = 2\n",
    "\n",
    "#Visualization Code initialization\n",
    "print ('x  \\t\\t y'); print ('%f \\t %f'% (x, y))\n",
    "x1= []; x2 = []; x3 = []\n",
    "\n",
    "#Ralston's Method\n",
    "for i in range(1, n+1):\n",
    "    x1.append(x); x2.append(y); x3.append(f(x))\n",
    "    #Apply Euler Method xo Get y at end of interval\n",
    "    dy1 = dy(x,y) \n",
    "    y34 = y + dy1 * 3 * h / 4\n",
    "    #Calculaxe derivative ax end point\n",
    "    dy34 = dy(x+ 3* h/ 4, y34)\n",
    "    #Calculate new y estimation\n",
    "    y = y + (1 / 3 * dy1 + 2 / 3 * dy34) * h\n",
    "    #Increase x by step size to calculate next y estimate\n",
    "    x = x + h    \n",
    "    print ('%f \\t %f'% (x, y)) \n",
    "    \n",
    "#Visulaization Code\n",
    "x1.append(x); x2.append(y); x3.append(f(x))\n",
    "plt.plot(x1,x2,'ro',x1,x3)\n",
    "plt.xlabel('x')\n",
    "plt.ylabel('y')\n",
    "plt.legend([\"Ralston\", 'Analytical'])"
   ]
  },
  {
   "cell_type": "markdown",
   "metadata": {},
   "source": [
    "## 3rd order Runge Kutta "
   ]
  },
  {
   "cell_type": "code",
   "execution_count": 32,
   "metadata": {},
   "outputs": [
    {
     "name": "stdout",
     "output_type": "stream",
     "text": [
      "x  \t\t y\n",
      "2.000000 \t -2.000000\n",
      "2.500000 \t -1.354167\n",
      "3.000000 \t -0.291233\n",
      "3.500000 \t 1.458180\n",
      "4.000000 \t 4.337421\n"
     ]
    },
    {
     "data": {
      "text/plain": [
       "<matplotlib.legend.Legend at 0x2161c227dc8>"
      ]
     },
     "execution_count": 32,
     "metadata": {},
     "output_type": "execute_result"
    },
    {
     "data": {
      "image/png": "[encoded data removed]",
      "text/plain": [
       "<Figure size 432x288 with 1 Axes>"
      ]
     },
     "metadata": {
      "needs_background": "light"
     },
     "output_type": "display_data"
    }
   ],
   "source": [
    "#Initial Condition\n",
    "y=-2; x = 2\n",
    "\n",
    "#Visualization Code initialization\n",
    "print ('x  \\t\\t y'); print ('%f \\t %f'% (x, y))\n",
    "x1= []; x2 = []; x3 = []\n",
    "\n",
    "#RK4 Method\n",
    "for i in range(1, n+1):   \n",
    "    x1.append(x); x2.append(y); x3.append(f(x))\n",
    "    \n",
    "    #Euler's Method\n",
    "    k1 = dy(x,y) \n",
    "    ym = y + k1 * h / 2\n",
    "    \n",
    "    #Derivative Approximation using ym\n",
    "    k2 = dy(x+h/2, ym)\n",
    "    ym2 = y- k1*h + 2*k2*h\n",
    "    \n",
    "    #Derivative Approximation using ym2\n",
    "    k3 = dy(x+h,ym2)    \n",
    "    \n",
    "    #Calculate new y estimation\n",
    "    y = y + 1 / 6 * (k1 + 4*k2 + k3) * h  \n",
    "    \n",
    "    #Increase x by step size to calculate next y estimate\n",
    "    x = x + h\n",
    "    print ('%f \\t %f'% (x, y)) \n",
    "    \n",
    "#Visulaization Code\n",
    "x1.append(x); x2.append(y); x3.append(f(x))\n",
    "plt.plot(x1,x2,'ro',x1,x3)\n",
    "plt.xlabel('x')\n",
    "plt.ylabel('y')\n",
    "plt.legend([\"RK3\", 'Analytical'])"
   ]
  },
  {
   "cell_type": "markdown",
   "metadata": {},
   "source": [
    "## 4th order Runge Kutta "
   ]
  },
  {
   "cell_type": "code",
   "execution_count": 33,
   "metadata": {},
   "outputs": [
    {
     "name": "stdout",
     "output_type": "stream",
     "text": [
      "x  \t\t y\n",
      "2.000000 \t -2.000000\n",
      "2.500000 \t -1.351562\n",
      "3.000000 \t -0.282654\n",
      "3.500000 \t 1.479375\n",
      "4.000000 \t 4.383970\n"
     ]
    },
    {
     "data": {
      "text/plain": [
       "<matplotlib.legend.Legend at 0x2161c2ab988>"
      ]
     },
     "execution_count": 33,
     "metadata": {},
     "output_type": "execute_result"
    },
    {
     "data": {
      "image/png": "[encoded data removed]",
      "text/plain": [
       "<Figure size 432x288 with 1 Axes>"
      ]
     },
     "metadata": {
      "needs_background": "light"
     },
     "output_type": "display_data"
    }
   ],
   "source": [
    "#Initial Condition\n",
    "y=-2; x = 2\n",
    "\n",
    "#Visualization Code initialization\n",
    "print ('x  \\t\\t y'); print ('%f \\t %f'% (x, y))\n",
    "x1= []; x2 = []; x3 = []\n",
    "\n",
    "#RK4 Method\n",
    "for i in range(1, n+1):   \n",
    "    x1.append(x); x2.append(y); x3.append(f(x))\n",
    "    \n",
    "    #Euler's Method\n",
    "    k1 = dy(x,y) \n",
    "    ym = y + k1 * h / 2\n",
    "    #Derivative Approximation using ym\n",
    "    k2 = dy(x+h/2, ym)\n",
    "    ym2 = y + k2*h/2     \n",
    "    #Derivative Approximation using ym2\n",
    "    k3 = dy(x+h/2, ym2)\n",
    "    ye = y + k3*h   \n",
    "    #Derivative approximation using ye \n",
    "    k4 = dy(x+h, ye)    \n",
    "    #Calculate new y estimation\n",
    "    y = y + 1 / 6 * (k1 + 2 * k2 + 2 * k3 + k4) * h   \n",
    "    #Increase x by step size to calculate next y estimate\n",
    "    x = x + h\n",
    "    print ('%f \\t %f'% (x, y)) \n",
    "    \n",
    "#Visulaization Code\n",
    "x1.append(x); x2.append(y); x3.append(f(x))\n",
    "plt.plot(x1,x2,'ro',x1,x3)\n",
    "plt.xlabel('x')\n",
    "plt.ylabel('y')\n",
    "plt.legend([\"RK4\", 'Analytical'])"
   ]
  }
 ],
 "metadata": {
  "kernelspec": {
   "display_name": "Python 3",
   "language": "python",
   "name": "python3"
  },
  "language_info": {
   "codemirror_mode": {
    "name": "ipython",
    "version": 3
   },
   "file_extension": ".py",
   "mimetype": "text/x-python",
   "name": "python",
   "nbconvert_exporter": "python",
   "pygments_lexer": "ipython3",
   "version": "3.8.5"
  }
 },
 "nbformat": 4,
 "nbformat_minor": 2
}

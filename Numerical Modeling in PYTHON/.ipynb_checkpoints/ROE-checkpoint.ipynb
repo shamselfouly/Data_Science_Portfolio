{
 "cells": [
  {
   "cell_type": "code",
   "execution_count": 1,
   "metadata": {},
   "outputs": [],
   "source": [
    "import math\n",
    "import numpy as np\n",
    "import matplotlib.pyplot as plt\n",
    "from IPython.display import Image\n",
    "%matplotlib inline"
   ]
  },
  {
   "cell_type": "markdown",
   "metadata": {},
   "source": [
    "# Bracking Methods"
   ]
  },
  {
   "cell_type": "markdown",
   "metadata": {},
   "source": [
    "## Bisection"
   ]
  },
  {
   "cell_type": "code",
   "execution_count": 2,
   "metadata": {},
   "outputs": [
    {
     "name": "stdout",
     "output_type": "stream",
     "text": [
      "x  \t\t ea \t\t et \t\t xr\n",
      "1.000000 \t 45.454545 \t 375.000000 \t 2.750000\n",
      "2.000000 \t 29.411765 \t 312.500000 \t 2.125000\n",
      "3.000000 \t 17.241379 \t 281.250000 \t 1.812500\n",
      "4.000000 \t 7.936508 \t 296.875000 \t 1.968750\n",
      "5.000000 \t 3.816794 \t 304.687500 \t 2.046875\n",
      "6.000000 \t 1.945525 \t 300.781250 \t 2.007812\n",
      "7.000000 \t 0.982318 \t 298.828125 \t 1.988281\n",
      "8.000000 \t 0.488759 \t 299.804688 \t 1.998047\n",
      "9.000000 \t 0.243784 \t 300.292969 \t 2.002930\n",
      "10.000000 \t 0.122041 \t 300.048828 \t 2.000488\n",
      "11.000000 \t 0.061058 \t 299.926758 \t 1.999268\n"
     ]
    }
   ],
   "source": [
    "########################\n",
    "#Function#\n",
    "f = lambda x: x**2 - x -2 \n",
    "\n",
    "#Initial Guesses (Upper & Lower limits)\n",
    "xl = 1.5; xu = 4\n",
    "########################\n",
    "\n",
    "#Initialize Variables\n",
    "ea = 10; et = 100; i = 1 ; xold = xu\n",
    "print ('x  \\t\\t ea \\t\\t et \\t\\t xr') \n",
    "\n",
    "while ea > 0.1:\n",
    "    #Bisection Root Finding Formula\n",
    "    xr = (xu + xl)/2\n",
    "    \n",
    "    #Calculate approximate & True Error\n",
    "    ea = abs((xr - xold) / xr) * 100\n",
    "    et = abs((-1 - xr) / -1) * 100\n",
    "    \n",
    "    #Identify the section where the root exists\n",
    "    if f(xr) * f(xl) < 0:\n",
    "        xu = xr\n",
    "    else:\n",
    "        xl = xr \n",
    "    \n",
    "    #Store root for next iteration\n",
    "    xold = xr\n",
    "    \n",
    "    print ('%f \\t %f \\t %f \\t %f'% (i, ea, et, xr))\n",
    "    i += 1  "
   ]
  },
  {
   "cell_type": "markdown",
   "metadata": {},
   "source": [
    "## False Position"
   ]
  },
  {
   "cell_type": "code",
   "execution_count": 3,
   "metadata": {},
   "outputs": [
    {
     "name": "stdout",
     "output_type": "stream",
     "text": [
      "x  \t\t ea \t\t et \t\t xr\n",
      "1.000000 \t 125.000000 \t 11.111111 \t 1.777778\n",
      "2.000000 \t 6.775068 \t 4.651163 \t 1.906977\n",
      "3.000000 \t 2.808673 \t 1.895735 \t 1.962085\n",
      "4.000000 \t 1.140360 \t 0.764088 \t 1.984718\n",
      "5.000000 \t 0.458923 \t 0.306572 \t 1.993869\n",
      "6.000000 \t 0.184019 \t 0.122779 \t 1.997544\n",
      "7.000000 \t 0.073680 \t 0.049136 \t 1.999017\n"
     ]
    }
   ],
   "source": [
    "########################\n",
    "#Function#\n",
    "f = lambda x: x**2 - x -2 \n",
    "\n",
    "#Initial Guesses (Upper & Lower limits)\n",
    "xl = 1.5; xu = 4\n",
    "########################\n",
    "\n",
    "ea = 100; i = 1 ; xold = xu\n",
    "print ('x  \\t\\t ea \\t\\t et \\t\\t xr') \n",
    "\n",
    "while ea > 0.1:\n",
    "    #False Position Root Finding Formula\n",
    "    xr = xu - (f(xu) * (xl - xu) / (f(xl) - f(xu)))\n",
    "    \n",
    "    #Calculate approximate error & True Error\n",
    "    ea = abs((xr - xold) / xr) * 100\n",
    "    et = abs((2 - xr) / 2) * 100\n",
    "    \n",
    "    #Identify the section where the root exists\n",
    "    if f(xr) * f(xl) < 0:\n",
    "        xu = xr\n",
    "    else:\n",
    "        xl = xr        \n",
    "    \n",
    "    #Store root for next iteration\n",
    "    xold = xr\n",
    "    \n",
    "    print ('%f \\t %f \\t %f \\t %f'% (i, ea, et, xr))\n",
    "    i += 1\n",
    "    "
   ]
  },
  {
   "cell_type": "markdown",
   "metadata": {},
   "source": [
    "# Open Methods"
   ]
  },
  {
   "cell_type": "markdown",
   "metadata": {},
   "source": [
    "## Newton Raphson"
   ]
  },
  {
   "cell_type": "code",
   "execution_count": 4,
   "metadata": {},
   "outputs": [
    {
     "name": "stdout",
     "output_type": "stream",
     "text": [
      "x  \t\t ea \t\t et \t\t xr\n",
      "1.000000 \t 100.000000 \t 200.000000 \t -2.000000\n",
      "2.000000 \t 66.666667 \t 160.000000 \t -1.200000\n",
      "3.000000 \t 18.604651 \t 150.588235 \t -1.011765\n",
      "4.000000 \t 1.171839 \t 150.002289 \t -1.000046\n",
      "5.000000 \t 0.004578 \t 150.000000 \t -1.000000\n"
     ]
    }
   ],
   "source": [
    "#########################\n",
    "#Function\n",
    "f = lambda x: x**2 - x -2 \n",
    "dy = lambda x: 2*x -1\n",
    "\n",
    "#Initial guess\n",
    "xi = 0\n",
    "#########################\n",
    "\n",
    "ea = 100; i = 1\n",
    "print ('x  \\t\\t ea \\t\\t et \\t\\t xr') \n",
    "\n",
    "while ea > 0.1:\n",
    "    #Newton Raphson root finding formula\n",
    "    xr = xi - (f(xi) / dy(xi))\n",
    "    \n",
    "    #Calculate approximate error\n",
    "    ea = abs((xr - xi) / xr) * 100\n",
    "    et = abs((2 - xr) / 2) * 100\n",
    "    \n",
    "    #Store root for next iteration\n",
    "    xi = xr\n",
    "    \n",
    "    print ('%f \\t %f \\t %f \\t %f'% (i, ea, et, xr))\n",
    "    i += 1"
   ]
  },
  {
   "cell_type": "markdown",
   "metadata": {},
   "source": [
    "## Secant Method"
   ]
  },
  {
   "cell_type": "code",
   "execution_count": 5,
   "metadata": {},
   "outputs": [
    {
     "name": "stdout",
     "output_type": "stream",
     "text": [
      "x  \t\t ea \t\t et \t\t xr\n",
      "1.000000 \t 35.714286 \t 16.666667 \t 2.333333\n",
      "2.000000 \t 17.699115 \t 0.877193 \t 1.982456\n",
      "3.000000 \t 1.059421 \t 0.184179 \t 2.003684\n",
      "4.000000 \t 0.220717 \t 0.036457 \t 1.999271\n",
      "5.000000 \t 0.043760 \t 0.007306 \t 2.000146\n"
     ]
    }
   ],
   "source": [
    "#########################\n",
    "#Function\n",
    "f = lambda x: x**2 - x -2 \n",
    "dy = lambda x: 2*x -1\n",
    "\n",
    "#Initial guess & Step Size\n",
    "xi = 1.5; h = 0.5\n",
    "#########################\n",
    "\n",
    "ea = 100; i = 1\n",
    "print ('x  \\t\\t ea \\t\\t et \\t\\t xr')\n",
    "\n",
    "while ea > 0.1:\n",
    "    #Secant root finding formula\n",
    "    xr = xi - (f(xi) * ((xi - h) - xi)) / (f(xi - h) - f(xi))\n",
    "    \n",
    "    #Calculate approximate error\n",
    "    ea = abs((xr - xi) / xr) * 100\n",
    "    et = abs((2 - xr) / 2) * 100\n",
    "    \n",
    "    #Store root for next iteration\n",
    "    xi = xr\n",
    "    \n",
    "    print ('%f \\t %f \\t %f \\t %f'% (i, ea, et, xr))\n",
    "    i = i + 1"
   ]
  },
  {
   "cell_type": "markdown",
   "metadata": {},
   "source": [
    "## Modified Newton Raphson - Multiple Roots"
   ]
  },
  {
   "cell_type": "code",
   "execution_count": 6,
   "metadata": {},
   "outputs": [
    {
     "name": "stdout",
     "output_type": "stream",
     "text": [
      "x  \t\t ea \t\t et \t\t xr\n",
      "1.000000 \t 28.865979 \t 3.000000 \t 1.940000\n",
      "2.000000 \t 2.939388 \t 0.062448 \t 1.998751\n",
      "3.000000 \t 0.062422 \t 0.000026 \t 1.999999\n"
     ]
    }
   ],
   "source": [
    "#########################\n",
    "#Functions#\n",
    "f = lambda x: x**2 - x -2 \n",
    "dy = lambda x: 2*x -1\n",
    "dy2 = lambda x: 2\n",
    "\n",
    "#Initial guess\n",
    "xi = 2.5\n",
    "#########################\n",
    "\n",
    "ea = 100; i = 1\n",
    "print ('x  \\t\\t ea \\t\\t et \\t\\t xr')\n",
    "\n",
    "while ea > 0.1:\n",
    "    #Modified Newton Raphson root finding formula\n",
    "    xr = xi - (f(xi) * dy(xi)) / (dy(xi) ** 2 - (f(xi) * dy2(xi)))\n",
    "    \n",
    "    #Calculate approximate error\n",
    "    ea = abs((xr - xi) / xr) * 100\n",
    "    et = abs((2 - xr) / 2) * 100\n",
    "    \n",
    "    #Store root for next iteration\n",
    "    xi = xr\n",
    "    \n",
    "    print ('%f \\t %f \\t %f \\t %f'% (i, ea, et, xr))\n",
    "    i = i + 1"
   ]
  }
 ],
 "metadata": {
  "kernelspec": {
   "display_name": "Python 3",
   "language": "python",
   "name": "python3"
  },
  "language_info": {
   "codemirror_mode": {
    "name": "ipython",
    "version": 3
   },
   "file_extension": ".py",
   "mimetype": "text/x-python",
   "name": "python",
   "nbconvert_exporter": "python",
   "pygments_lexer": "ipython3",
   "version": "3.8.5"
  }
 },
 "nbformat": 4,
 "nbformat_minor": 2
}

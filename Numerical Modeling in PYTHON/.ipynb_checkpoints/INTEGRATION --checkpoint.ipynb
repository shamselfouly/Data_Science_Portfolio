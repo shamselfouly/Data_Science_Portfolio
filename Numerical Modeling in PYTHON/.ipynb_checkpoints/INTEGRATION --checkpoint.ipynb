{
 "cells": [
  {
   "cell_type": "code",
   "execution_count": 2,
   "metadata": {},
   "outputs": [],
   "source": [
    "import math\n",
    "import numpy as np\n",
    "import matplotlib.pyplot as plt\n",
    "from IPython.display import Image\n",
    "%matplotlib inline"
   ]
  },
  {
   "cell_type": "markdown",
   "metadata": {},
   "source": [
    "## Trapezoidal Rule"
   ]
  },
  {
   "cell_type": "code",
   "execution_count": 3,
   "metadata": {},
   "outputs": [
    {
     "name": "stdout",
     "output_type": "stream",
     "text": [
      "x \t\t ea  \t\t et \t\t integral\n",
      "1.000000 \t 4708.983470 \t 3.679614 \t 2.079442\n",
      "2.000000 \t 2.754085 \t 0.951741 \t 2.138333\n",
      "3.000000 \t 0.527930 \t 0.426060 \t 2.149682\n",
      "4.000000 \t 0.186261 \t 0.240246 \t 2.153693\n",
      "5.000000 \t 0.086477 \t 0.153902 \t 2.155557\n"
     ]
    }
   ],
   "source": [
    "########################\n",
    "#Function#\n",
    "f = lambda x: math.log(x)\n",
    "\n",
    "#Integration Limits\n",
    "a = 2; b = 4\n",
    "########################\n",
    "\n",
    "ea = 100; i = 1; n = 1; old = 100\n",
    "print ('x \\t\\t ea  \\t\\t et \\t\\t integral') \n",
    "\n",
    "while ea > 0.1:\n",
    "    #Calculate Number of Segments\n",
    "    h = (b - a) / n\n",
    "    \n",
    "    #Calculate summation term\n",
    "    Sum = 0\n",
    "    for i in range (1, n): \n",
    "        Sum += 2 * f(a + i * h)\n",
    "        \n",
    "    #Calculate Integral estimate\n",
    "    integral = (h / 2) * (f(a) + Sum + f(b))\n",
    "    \n",
    "    #Calculate ture error\n",
    "    ea = abs((integral - old) / integral) * 100\n",
    "    et = abs((2.15888 - integral) / 2.15888) * 100\n",
    "    \n",
    "    #Store root for next iteration\n",
    "    old = integral\n",
    "\n",
    "    print ('%f \\t %f \\t %f \\t %f'% (n, ea, et, integral))\n",
    "    i += 1\n",
    "    n += 1"
   ]
  },
  {
   "cell_type": "code",
   "execution_count": null,
   "metadata": {},
   "outputs": [],
   "source": []
  }
 ],
 "metadata": {
  "kernelspec": {
   "display_name": "Python 3",
   "language": "python",
   "name": "python3"
  },
  "language_info": {
   "codemirror_mode": {
    "name": "ipython",
    "version": 3
   },
   "file_extension": ".py",
   "mimetype": "text/x-python",
   "name": "python",
   "nbconvert_exporter": "python",
   "pygments_lexer": "ipython3",
   "version": "3.8.5"
  }
 },
 "nbformat": 4,
 "nbformat_minor": 4
}

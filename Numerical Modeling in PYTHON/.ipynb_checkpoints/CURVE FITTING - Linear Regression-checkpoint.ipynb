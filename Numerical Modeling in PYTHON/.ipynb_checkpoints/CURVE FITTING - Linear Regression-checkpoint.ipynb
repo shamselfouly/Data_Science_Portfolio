{
 "cells": [
  {
   "cell_type": "code",
   "execution_count": 1,
   "metadata": {},
   "outputs": [],
   "source": [
    "import math\n",
    "import numpy as np; from numpy import array, sum, mean\n",
    "import matplotlib.pyplot as plt\n",
    "from IPython.display import Image\n",
    "%matplotlib inline"
   ]
  },
  {
   "cell_type": "markdown",
   "metadata": {},
   "source": [
    "## Linear Regression (for-Loop)"
   ]
  },
  {
   "cell_type": "code",
   "execution_count": 2,
   "metadata": {},
   "outputs": [
    {
     "name": "stdout",
     "output_type": "stream",
     "text": [
      "The straight line equation\n",
      "y = 3.565 + 2.229x\n"
     ]
    }
   ],
   "source": [
    "#Data Points\n",
    "x = array([1, 2, 3, 4, 5, 6,7,8,9,10,11,12,13,14,15,16,17,18,19,20],float)\n",
    "y = array([6.212377959, 8.269290336, 10.45137038, 12.46912343, 15.19100778, 16.76891841, 19.29059892, 21.16784822,22.18639417,26.81871018,28.67558975,28.65531704,31.78874624,34.03096896,37.55130769,40.57503047,41.14502907,41.76676093,47.32479041,49.08216606],float)\n",
    "n = len(x)\n",
    "\n",
    "#Calculate Sums\n",
    "sumx = sumx2 = sumxy = sumy = 0\n",
    "for i in range(n):\n",
    "    sumx += x[i]\n",
    "    sumx2 += x[i]**2\n",
    "    sumxy += x[i]*y[i]\n",
    "    sumy += y[i]\n",
    "\n",
    "#Calculate Slope\n",
    "a1 = (n*sumxy - sumx*sumy)/(n*sumx2 - (sumx)**2)\n",
    "\n",
    "#Calculate Intercept\n",
    "xm = sumx / n\n",
    "ym = sumy / n\n",
    "ao = ym - a1*xm\n",
    "print('The straight line equation')\n",
    "print('y = %.3f + %.3fx' % (ao,a1))"
   ]
  },
  {
   "cell_type": "markdown",
   "metadata": {},
   "source": [
    "## Linear Regression (NumPy Functions)"
   ]
  },
  {
   "cell_type": "code",
   "execution_count": 3,
   "metadata": {},
   "outputs": [
    {
     "name": "stdout",
     "output_type": "stream",
     "text": [
      "The straight line equation:\n",
      "f(x) = 3.565 + 2.229x\n"
     ]
    }
   ],
   "source": [
    "#Data Points\n",
    "x = array([1, 2, 3, 4, 5, 6,7,8,9,10,11,12,13,14,15,16,17,18,19,20],float)\n",
    "y = array([6.212377959, 8.269290336, 10.45137038, 12.46912343, 15.19100778, 16.76891841, 19.29059892, 21.16784822,22.18639417,26.81871018,28.67558975,28.65531704,31.78874624,34.03096896,37.55130769,40.57503047,41.14502907,41.76676093,47.32479041,49.08216606],float)\n",
    "n = len(x)      \n",
    "\n",
    "#Intercept & Slope equaitons\n",
    "a1 = (n*sum(x*y) - sum(x)*sum(y))/(n*sum(x**2) - (sum(x)**2))\n",
    "ao = mean(y) - a1*mean(x)\n",
    "\n",
    "print('The straight line equation:')\n",
    "print('f(x) = %.3f + %.3fx'%(ao,a1))"
   ]
  }
 ],
 "metadata": {
  "kernelspec": {
   "display_name": "Python 3",
   "language": "python",
   "name": "python3"
  },
  "language_info": {
   "codemirror_mode": {
    "name": "ipython",
    "version": 3
   },
   "file_extension": ".py",
   "mimetype": "text/x-python",
   "name": "python",
   "nbconvert_exporter": "python",
   "pygments_lexer": "ipython3",
   "version": "3.8.5"
  }
 },
 "nbformat": 4,
 "nbformat_minor": 4
}

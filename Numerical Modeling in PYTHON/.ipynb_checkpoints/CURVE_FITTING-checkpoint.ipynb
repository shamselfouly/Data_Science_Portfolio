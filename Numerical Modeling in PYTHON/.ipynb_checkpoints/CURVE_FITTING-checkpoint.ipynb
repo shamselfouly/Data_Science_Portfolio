{
 "cells": [
  {
   "cell_type": "code",
   "execution_count": 6,
   "metadata": {},
   "outputs": [],
   "source": [
    "import math\n",
    "import numpy as np; from numpy import array, sum, mean\n",
    "import matplotlib.pyplot as plt\n",
    "from IPython.display import Image\n",
    "%matplotlib inline"
   ]
  },
  {
   "cell_type": "markdown",
   "metadata": {},
   "source": [
    "# Curve Fitting"
   ]
  },
  {
   "cell_type": "markdown",
   "metadata": {},
   "source": [
    "## Linear Regression"
   ]
  },
  {
   "cell_type": "code",
   "execution_count": 4,
   "metadata": {},
   "outputs": [
    {
     "name": "stdout",
     "output_type": "stream",
     "text": [
      "The straight line equation\n",
      "y = 3.565 + 2.229x\n"
     ]
    }
   ],
   "source": [
    "#Data Points\n",
    "x = array([1, 2, 3, 4, 5, 6,7,8,9,10,11,12,13,14,15,16,17,18,19,20],float)\n",
    "y = array([6.212377959, 8.269290336, 10.45137038, 12.46912343, 15.19100778, 16.76891841, 19.29059892, 21.16784822,22.18639417,26.81871018,28.67558975,28.65531704,31.78874624,34.03096896,37.55130769,40.57503047,41.14502907,41.76676093,47.32479041,49.08216606],float)\n",
    "n = len(x)\n",
    "\n",
    "#Calculate Sums\n",
    "sumx = sumx2 = sumxy = sumy = 0\n",
    "for i in range(n):\n",
    "    sumx += x[i]\n",
    "    sumx2 += x[i]**2\n",
    "    sumxy += x[i]*y[i]\n",
    "    sumy += y[i]\n",
    "\n",
    "#Calculate Slope\n",
    "a1 = (n*sumxy - sumx*sumy)/(n*sumx2 - (sumx)**2)\n",
    "\n",
    "#Calculate Intercept\n",
    "xm = sumx / n\n",
    "ym = sumy / n\n",
    "ao = ym - a1*xm\n",
    "print('The straight line equation')\n",
    "print('y = %.3f + %.3fx' % (ao,a1))"
   ]
  },
  {
   "cell_type": "code",
   "execution_count": null,
   "metadata": {},
   "outputs": [],
   "source": [
    "x = array([1, 2, 3, 4, 5, 6,7,8,9,10,11,12,13,14,15,16,17,18,19,20],float)\n",
    "y = array([6.212377959, 8.269290336, 10.45137038, 12.46912343, 15.19100778, 16.76891841, 19.29059892, 21.16784822,22.18639417,26.81871018,28.67558975,28.65531704,31.78874624,34.03096896,37.55130769,40.57503047,41.14502907,41.76676093,47.32479041,49.08216606],float)\n",
    "n = len(x)      \n",
    "a1 = (n*sum(x*y) - sum(x)*sum(y))/(n*sum(x**2 - (sumx)**2)\n",
    "\n",
    "a = (mean(y)*sum(x**2)-mean(x)*sum(x*y))/(sum(x**2)-n*mean(x)**2);\n",
    "b = (sum(x*y)-mean(x)*sum(y))/(sum(x**2)-n*mean(x)**2)\n",
    "print('The straight line equation:')\n",
    "print('f(x) = %.3f + %.3fx'%(a,b))"
   ]
  },
  {
   "cell_type": "markdown",
   "metadata": {},
   "source": [
    "## Polynomial Regression"
   ]
  },
  {
   "cell_type": "code",
   "execution_count": 59,
   "metadata": {
    "scrolled": true
   },
   "outputs": [
    {
     "name": "stdout",
     "output_type": "stream",
     "text": [
      "The polynomial :\n",
      "f(x) = \t 4.563078\n",
      "\t +2.062039 x^1\n",
      "\t +2.389517 x^2\n"
     ]
    }
   ],
   "source": [
    "x = array([1, 2, 3, 4, 5, 6,7,8,9,10,11,12,13,14,15,16,17,18,19,20],float)\n",
    "y = array([6.37361616,16.16614209,34.1594801,47.53257704,79.70099378,104.9763842,135.7547636,175.5118987,202.9265274,305.9431115,339.0076198,353.7043634,381.5248502,514.2879791,506.8871151,734.3605687,702.7170403,740.0794987,1111.692207,888.8960119],float)\n",
    "n = len(x)\n",
    "o = 2\n",
    "\n",
    "a = np.zeros((o+1, o+1)); b = np.zeros(o+1); s = np.zeros(o+1)\n",
    "\n",
    "#Calculate Matrix A & Vector B\n",
    "for i in range(1, o+2):\n",
    "    #Create A Matrix Coeff.\n",
    "    for j in range(1,i+1):\n",
    "        k = i + j - 2\n",
    "        Sum = 0\n",
    "        for L in range(0, n):\n",
    "            Sum = Sum + x[L] ** k\n",
    "        a[i-1, j-1] = Sum\n",
    "        a[j-1, i-1] = Sum\n",
    "\n",
    "    #Create b vector\n",
    "    Sum = 0\n",
    "    for L in range(0, n):\n",
    "        Sum = Sum + y[L] * x[L] ** (i-1)\n",
    "    b[i-1] = Sum\n",
    "    \n",
    "#Elimination\n",
    "for k in range(o):  \n",
    "    for i in range(k+1, o+1):\n",
    "        fctr = a[i, k] / a[k, k]\n",
    "        for j in range(k, o+1):\n",
    "            a[i, j] = a[i, j] - fctr*a[k, j]\n",
    "        b[i] = b[i] - fctr*b[k]\n",
    "                       \n",
    "#Back-substitution\n",
    "s[o] = b[o] / a[o, o]\n",
    "for i in range(o-1, -1, -1):\n",
    "    Sum = b[i]\n",
    "    for j in range(i+1, o+1):\n",
    "        Sum = Sum - a[i, j]*s[j]\n",
    "    s[i] = Sum/a[i, i]\n",
    "\n",
    "print ('The polynomial :')\n",
    "print('f(x) = \\t %f'%s[0])\n",
    "for i in range(1, o+1):\n",
    "    print('\\t %+f x^%d' % (s[i],i))"
   ]
  },
  {
   "cell_type": "markdown",
   "metadata": {},
   "source": [
    "## Cubic Spline"
   ]
  },
  {
   "cell_type": "code",
   "execution_count": 39,
   "metadata": {},
   "outputs": [
    {
     "name": "stdout",
     "output_type": "stream",
     "text": [
      "yu  \t\t dy \t\t  d2y\n",
      "12.755725 \t -0.146026 \t -0.003606\n"
     ]
    }
   ],
   "source": [
    "x = array([0,2.4,5.1,9.5,14.2,19,23,28,30,32],float)\n",
    "y = array([24,24,24,21.8,15.1,12.9,12.3,11.7,11.7,11.7],float)\n",
    "x_u = array([range(1,33)],float)\n",
    "n = len(x)-1\n",
    "\n",
    "e = np.zeros(n+1); g = np.zeros(n+1); r = np.zeros(n+1); f = np.zeros(n+1); d2x = np.zeros(n+1); factor = np.zeros(n+1)\n",
    "d2x[0] = 0; d2x[n] = 0\n",
    "\n",
    "#Create Tridiagonal Matrix\n",
    "f[0] = 2 * (x[2] - x[0])\n",
    "g[0] = (x[2] - x[0])\n",
    "r[0] = (6 / (x[2] - x[1])) * (y[2] - y[1])\n",
    "r[0] = r[0] + (6 / (x[1] - x[0])) * (y[2] - y[1])\n",
    "\n",
    "for i in range(2, n):\n",
    "    e[i-1] = (x[i] - x[i - 1])\n",
    "    f[i-1] = 2 * (x[i + 1] - x[i - 1])\n",
    "    g[i-1] = (x[i + 1] - x[i])\n",
    "    r[i-1] = (6 / (x[i + 1] - x[i])) * (y[i + 1] - y[i])\n",
    "    r[i-1] = r[i-1] + (6 / (x[i] - x[i - 1])) * (y[i - 1] - y[i])\n",
    "    \n",
    "e[n - 2] = (x[n - 1] - x[n - 2])\n",
    "f[n - 2] = 2 * (x[n] - x[n - 2])\n",
    "r[n - 2] = (6 / (x[n] - x[n - 1])) * (y[n] - y[n - 1])\n",
    "r[n - 2] = r[n - 2] + (6 / (x[n - 1] - x[n - 2])) * (y[n - 2] - y[n - 1])\n",
    "\n",
    "#Thomas Algorithm\n",
    "#Forward Elimination\n",
    "for k in range(2, n):\n",
    "    factor[k-1] = e[k-1] / f[k - 2]\n",
    "    f[k-1] = f[k-1] - factor[k-1] * g[k - 2]\n",
    "    r[k-1] = r[k-1] - factor[k-1] * r[k - 2]\n",
    "\n",
    "#Backward Substitution\n",
    "d2x[n - 1] = r[n - 2] / f[n - 2]\n",
    "for k in range(n - 2, 0,-1):\n",
    "    d2x[k] = (r[k-1] - g[k-1] * d2x[k+1]) / f[k-1]\n",
    "    \n",
    "xu = 20\n",
    "flag = 0\n",
    "i = 1\n",
    "while flag != 1:\n",
    "    #Identify what interval the pt of interest is\n",
    "    if xu >= x[i - 1] and xu <= x[i]:\n",
    "        #Calculating Constants\n",
    "        c1 = d2x[i - 1] / (6 * (x[i] - x[i - 1]))\n",
    "        c2 = d2x[i] / (6 * (x[i] - x[i - 1]))\n",
    "        c3 = y[i - 1] / (x[i] - x[i - 1]) - d2x[i - 1] * (x[i] - x[i - 1]) / 6\n",
    "        c4 = y[i] / (x[i] - x[i - 1]) - d2x[i] * (x[i] - x[i - 1]) / 6\n",
    "\n",
    "        #Function Value at xu\n",
    "        t1 = c1 * (x[i] - xu) ** 3\n",
    "        t2 = c2 * (xu - x[i - 1]) ** 3\n",
    "        t3 = c3 * (x[i] - xu)\n",
    "        t4 = c4 * (xu - x[i - 1])\n",
    "        yu = t1 + t2 + t3 + t4\n",
    "\n",
    "        #1st Derivative at xu\n",
    "        t1 = -3 * c1 * (x[i] - xu) ** 2\n",
    "        t2 = 3 * c2 * (xu - x[i - 1]) ** 2\n",
    "        t3 = -c3\n",
    "        t4 = c4\n",
    "        dy = t1 + t2 + t3 + t4\n",
    "\n",
    "        #2nd Derivative at xu\n",
    "        t1 = 6 * c1 * (x[i] - xu)\n",
    "        t2 = 6 * c2 * (xu - x[i - 1])\n",
    "        d2y = t1 + t2\n",
    "        flag = 1\n",
    "    else:\n",
    "        i = i + 1   \n",
    "print ('yu  \\t\\t dy \\t\\t  d2y') \n",
    "print ('%f \\t %f \\t %f'% (yu, dy, d2y))"
   ]
  },
  {
   "cell_type": "code",
   "execution_count": null,
   "metadata": {},
   "outputs": [],
   "source": []
  }
 ],
 "metadata": {
  "kernelspec": {
   "display_name": "Python 3",
   "language": "python",
   "name": "python3"
  },
  "language_info": {
   "codemirror_mode": {
    "name": "ipython",
    "version": 3
   },
   "file_extension": ".py",
   "mimetype": "text/x-python",
   "name": "python",
   "nbconvert_exporter": "python",
   "pygments_lexer": "ipython3",
   "version": "3.7.4"
  }
 },
 "nbformat": 4,
 "nbformat_minor": 2
}

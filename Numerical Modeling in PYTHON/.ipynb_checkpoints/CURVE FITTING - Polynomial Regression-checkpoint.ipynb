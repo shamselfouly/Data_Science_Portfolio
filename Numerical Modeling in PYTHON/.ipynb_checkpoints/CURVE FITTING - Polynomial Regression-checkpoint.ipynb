{
 "cells": [
  {
   "cell_type": "code",
   "execution_count": 1,
   "metadata": {},
   "outputs": [],
   "source": [
    "import math\n",
    "import numpy as np; from numpy import array, sum, mean\n",
    "import matplotlib.pyplot as plt\n",
    "from IPython.display import Image\n",
    "%matplotlib inline"
   ]
  },
  {
   "cell_type": "markdown",
   "metadata": {},
   "source": [
    "## Polynomial Regression (Using Gauss Elimination)"
   ]
  },
  {
   "cell_type": "code",
   "execution_count": 2,
   "metadata": {},
   "outputs": [
    {
     "name": "stdout",
     "output_type": "stream",
     "text": [
      "The polynomial :\n",
      "f(x) = \t 4.563078\n",
      "\t +2.062039 x^1\n",
      "\t +2.389517 x^2\n"
     ]
    }
   ],
   "source": [
    "x = array([1, 2, 3, 4, 5, 6,7,8,9,10,11,12,13,14,15,16,17,18,19,20],float)\n",
    "y = array([6.37361616,16.16614209,34.1594801,47.53257704,79.70099378,104.9763842,135.7547636,175.5118987,202.9265274,305.9431115,339.0076198,353.7043634,381.5248502,514.2879791,506.8871151,734.3605687,702.7170403,740.0794987,1111.692207,888.8960119],float)\n",
    "n = len(x)\n",
    "o = 2\n",
    "\n",
    "a = np.zeros((o+1, o+1)); b = np.zeros(o+1); s = np.zeros(o+1)\n",
    "\n",
    "#Calculate Matrix A & Vector B\n",
    "for i in range(1, o+2):\n",
    "    #Create A Matrix Coeff.\n",
    "    for j in range(1,i+1):\n",
    "        k = i + j - 2\n",
    "        Sum = 0\n",
    "        for L in range(0, n):\n",
    "            Sum = Sum + x[L] ** k\n",
    "        a[i-1, j-1] = Sum\n",
    "        a[j-1, i-1] = Sum\n",
    "\n",
    "    #Create b vector\n",
    "    Sum = 0\n",
    "    for L in range(0, n):\n",
    "        Sum = Sum + y[L] * x[L] ** (i-1)\n",
    "    b[i-1] = Sum\n",
    "    \n",
    "#Elimination\n",
    "for k in range(o):  \n",
    "    for i in range(k+1, o+1):\n",
    "        fctr = a[i, k] / a[k, k]\n",
    "        for j in range(k, o+1):\n",
    "            a[i, j] = a[i, j] - fctr*a[k, j]\n",
    "        b[i] = b[i] - fctr*b[k]\n",
    "                       \n",
    "#Back-substitution\n",
    "s[o] = b[o] / a[o, o]\n",
    "for i in range(o-1, -1, -1):\n",
    "    Sum = b[i]\n",
    "    for j in range(i+1, o+1):\n",
    "        Sum = Sum - a[i, j]*s[j]\n",
    "    s[i] = Sum/a[i, i]\n",
    "\n",
    "print ('The polynomial :')\n",
    "print('f(x) = \\t %f'%s[0])\n",
    "for i in range(1, o+1):\n",
    "    print('\\t %+f x^%d' % (s[i],i))"
   ]
  },
  {
   "cell_type": "markdown",
   "metadata": {},
   "source": [
    "## Polynomial Regression (Using NumPy Linear Algebra Solver)"
   ]
  },
  {
   "cell_type": "code",
   "execution_count": 3,
   "metadata": {},
   "outputs": [
    {
     "name": "stdout",
     "output_type": "stream",
     "text": [
      "The polynomial :\n",
      "f(x) = \t 4.563078\n",
      "\t +2.062039 x^1\n",
      "\t +2.389517 x^2\n"
     ]
    }
   ],
   "source": [
    "x = array([1, 2, 3, 4, 5, 6,7,8,9,10,11,12,13,14,15,16,17,18,19,20],float)\n",
    "y = array([6.37361616,16.16614209,34.1594801,47.53257704,79.70099378,104.9763842,135.7547636,175.5118987,202.9265274,305.9431115,339.0076198,353.7043634,381.5248502,514.2879791,506.8871151,734.3605687,702.7170403,740.0794987,1111.692207,888.8960119],float)\n",
    "n = len(x)\n",
    "o = 2\n",
    "\n",
    "a = np.zeros((o+1, o+1)); b = np.zeros(o+1); s = np.zeros(o+1)\n",
    "\n",
    "#Calculate Matrix A & Vector B\n",
    "for i in range(1, o+2):\n",
    "    #Create A Matrix Coeff.\n",
    "    for j in range(1,i+1):\n",
    "        k = i + j - 2\n",
    "        Sum = 0\n",
    "        for L in range(0, n):\n",
    "            Sum = Sum + x[L] ** k\n",
    "        a[i-1, j-1] = Sum\n",
    "        a[j-1, i-1] = Sum\n",
    "\n",
    "    #Create b vector\n",
    "    Sum = 0\n",
    "    for L in range(0, n):\n",
    "        Sum = Sum + y[L] * x[L] ** (i-1)\n",
    "    b[i-1] = Sum\n",
    "    \n",
    "s = np.linalg.solve(a, b)\n",
    "\n",
    "print ('The polynomial :')\n",
    "print('f(x) = \\t %f'%s[0])\n",
    "for i in range(1, o+1):\n",
    "    print('\\t %+f x^%d' % (s[i],i))"
   ]
  },
  {
   "cell_type": "code",
   "execution_count": null,
   "metadata": {},
   "outputs": [],
   "source": []
  }
 ],
 "metadata": {
  "kernelspec": {
   "display_name": "Python 3",
   "language": "python",
   "name": "python3"
  },
  "language_info": {
   "codemirror_mode": {
    "name": "ipython",
    "version": 3
   },
   "file_extension": ".py",
   "mimetype": "text/x-python",
   "name": "python",
   "nbconvert_exporter": "python",
   "pygments_lexer": "ipython3",
   "version": "3.8.5"
  }
 },
 "nbformat": 4,
 "nbformat_minor": 4
}

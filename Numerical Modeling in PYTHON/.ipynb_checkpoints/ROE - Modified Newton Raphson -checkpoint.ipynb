{
 "cells": [
  {
   "cell_type": "code",
   "execution_count": 1,
   "metadata": {},
   "outputs": [],
   "source": [
    "import math\n",
    "import numpy as np\n",
    "import matplotlib.pyplot as plt\n",
    "from IPython.display import Image\n",
    "%matplotlib inline"
   ]
  },
  {
   "cell_type": "markdown",
   "metadata": {},
   "source": [
    "## Modified Newton Raphson"
   ]
  },
  {
   "cell_type": "code",
   "execution_count": 2,
   "metadata": {},
   "outputs": [
    {
     "name": "stdout",
     "output_type": "stream",
     "text": [
      "x  \t\t ea \t\t et \t\t xr\n",
      "1.000000 \t 28.865979 \t 3.000000 \t 1.940000\n",
      "2.000000 \t 2.939388 \t 0.062448 \t 1.998751\n",
      "3.000000 \t 0.062422 \t 0.000026 \t 1.999999\n"
     ]
    }
   ],
   "source": [
    "#########################\n",
    "#Functions#\n",
    "f = lambda x: x**2 - x -2 \n",
    "dy = lambda x: 2*x -1\n",
    "dy2 = lambda x: 2\n",
    "\n",
    "#Initial guess\n",
    "xi = 2.5\n",
    "#########################\n",
    "\n",
    "ea = 100; i = 1\n",
    "print ('x  \\t\\t ea \\t\\t et \\t\\t xr')\n",
    "\n",
    "while ea > 0.1:\n",
    "    #Modified Newton Raphson root finding formula\n",
    "    xr = xi - (f(xi) * dy(xi)) / (dy(xi) ** 2 - (f(xi) * dy2(xi)))\n",
    "    \n",
    "    #Calculate approximate error\n",
    "    ea = abs((xr - xi) / xr) * 100\n",
    "    et = abs((2 - xr) / 2) * 100\n",
    "    \n",
    "    #Store root for next iteration\n",
    "    xi = xr\n",
    "    \n",
    "    print ('%f \\t %f \\t %f \\t %f'% (i, ea, et, xr))\n",
    "    i = i + 1"
   ]
  }
 ],
 "metadata": {
  "kernelspec": {
   "display_name": "Python 3",
   "language": "python",
   "name": "python3"
  },
  "language_info": {
   "codemirror_mode": {
    "name": "ipython",
    "version": 3
   },
   "file_extension": ".py",
   "mimetype": "text/x-python",
   "name": "python",
   "nbconvert_exporter": "python",
   "pygments_lexer": "ipython3",
   "version": "3.8.5"
  }
 },
 "nbformat": 4,
 "nbformat_minor": 4
}

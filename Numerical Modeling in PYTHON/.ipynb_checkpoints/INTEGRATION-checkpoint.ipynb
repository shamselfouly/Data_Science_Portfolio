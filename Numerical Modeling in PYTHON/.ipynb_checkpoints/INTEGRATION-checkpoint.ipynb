{
 "cells": [
  {
   "cell_type": "code",
   "execution_count": 5,
   "metadata": {},
   "outputs": [],
   "source": [
    "import math\n",
    "import numpy as np\n",
    "import matplotlib.pyplot as plt\n",
    "from IPython.display import Image\n",
    "%matplotlib inline"
   ]
  },
  {
   "cell_type": "markdown",
   "metadata": {},
   "source": [
    "## Trapizoidal Rule"
   ]
  },
  {
   "cell_type": "code",
   "execution_count": 2,
   "metadata": {},
   "outputs": [
    {
     "name": "stdout",
     "output_type": "stream",
     "text": [
      "x \t\t ea  \t\t et \t\t integral\n",
      "1.000000 \t 4708.983470 \t 3.679614 \t 2.079442\n",
      "2.000000 \t 2.754085 \t 0.951741 \t 2.138333\n",
      "3.000000 \t 0.527930 \t 0.426060 \t 2.149682\n",
      "4.000000 \t 0.186261 \t 0.240246 \t 2.153693\n",
      "5.000000 \t 0.086477 \t 0.153902 \t 2.155557\n"
     ]
    }
   ],
   "source": [
    "########################\n",
    "#Function#\n",
    "f = lambda x: math.log(x)\n",
    "\n",
    "#Integration Limits\n",
    "a = 2; b = 4\n",
    "########################\n",
    "\n",
    "ea = 100; i = 1; n = 1; old = 100\n",
    "print ('x \\t\\t ea  \\t\\t et \\t\\t integral') \n",
    "\n",
    "while ea > 0.1:\n",
    "    #Calculate Number of Segments\n",
    "    h = (b - a) / n\n",
    "    \n",
    "    #Calculate summation term\n",
    "    Sum = 0\n",
    "    for i in range (1, n): \n",
    "        Sum += 2 * f(a + i * h)\n",
    "        \n",
    "    #Calculate Integral estimate\n",
    "    integral = (h / 2) * (f(a) + Sum + f(b))\n",
    "    \n",
    "    #Calculate ture error\n",
    "    ea = abs((integral - old) / integral) * 100\n",
    "    et = abs((2.15888 - integral) / 2.15888) * 100\n",
    "    \n",
    "    #Store root for next iteration\n",
    "    old = integral\n",
    "\n",
    "    print ('%f \\t %f \\t %f \\t %f'% (n, ea, et, integral))\n",
    "    i += 1\n",
    "    n += 1"
   ]
  },
  {
   "cell_type": "markdown",
   "metadata": {},
   "source": [
    "## Simpson's 1/3 Rule"
   ]
  },
  {
   "cell_type": "code",
   "execution_count": 3,
   "metadata": {},
   "outputs": [
    {
     "name": "stdout",
     "output_type": "stream",
     "text": [
      "x \t\t ea  \t\t et \t\t integral\n",
      "1.000000 \t 4533.998535 \t 0.042450 \t 2.157964\n",
      "2.000000 \t 0.039370 \t 0.003081 \t 2.158813\n"
     ]
    }
   ],
   "source": [
    "########################\n",
    "#Function#\n",
    "f = lambda x: math.log(x)\n",
    "\n",
    "#Integration Limits\n",
    "a = 2; b = 4\n",
    "########################\n",
    "\n",
    "ea = 100; ii = 1; n = 2; old = 100\n",
    "print ('x \\t\\t ea  \\t\\t et \\t\\t integral') \n",
    "\n",
    "while ea > 0.1:\n",
    "    h = (b - a) / n\n",
    "    \n",
    "    #Add function values at start & End of interval\n",
    "    integral =f(a) + f(b)    \n",
    "    #Calculate 1st Summation term\n",
    "    for i in range (1, n, 2):\n",
    "        integral += 4 * f(a + i * h)      \n",
    "    #Calculate 2nd Summation term\n",
    "    for i in range (2, n-1,2): \n",
    "        integral += 2 * f(a + i * h)            \n",
    "    #Calcualte integral estimation    \n",
    "    integral = (h / 3) * integral\n",
    "    \n",
    "    #Calculate ture error\n",
    "    ea = abs((integral - old) / integral) * 100\n",
    "    et = abs((2.15888 - integral) / 2.15888) * 100\n",
    "    \n",
    "    #Store root for next iteration\n",
    "    old = integral\n",
    "\n",
    "    print ('%f \\t %f \\t %f \\t %f'% (ii, ea, et, integral))\n",
    "    ii = ii + 1\n",
    "    n = n + 2"
   ]
  },
  {
   "cell_type": "markdown",
   "metadata": {},
   "source": [
    "## Romberg Integration"
   ]
  },
  {
   "cell_type": "code",
   "execution_count": 56,
   "metadata": {},
   "outputs": [
    {
     "name": "stdout",
     "output_type": "stream",
     "text": [
      "Application \t ea \t\t et \t\t Integral\n",
      "1.000000 \t 2.040301 \t 0.033823 \t 1.718861\n",
      "2.000000 \t 0.002104 \t 0.000156 \t 1.718283\n",
      "3.000000 \t 0.000001 \t 0.000106 \t 1.718282\n",
      "4.000000 \t 0.000000 \t 0.000106 \t 1.718282\n"
     ]
    }
   ],
   "source": [
    "########################\n",
    "#Function#\n",
    "f = lambda x: math.exp(x)\n",
    "\n",
    "#Integration Limits\n",
    "a = 0; b = 1\n",
    "########################\n",
    "\n",
    "def Trap(n, a, b):\n",
    "    h = (b - a) / n\n",
    "    Sum = 0\n",
    "    for i in range(1, n):\n",
    "        Sum = Sum + 2 * f(a + i * h)\n",
    "    Trap = (h / 2) * (f(a) + Sum + f(b))\n",
    "    return Trap\n",
    "\n",
    "Integ= np.zeros((10,10))\n",
    "\n",
    "ea = 100; i = 1; n = 1\n",
    "print ('Application \\t ea \\t\\t et \\t\\t Integral') \n",
    "Integ[0, 0] = Trap(n, a, b)\n",
    "\n",
    "while ea > 0.0000001:\n",
    "    #Define number of trapezoids\n",
    "    n = 2 ** i\n",
    "    #Next Integral Approx.\n",
    "    Integ[i , 0] = Trap(n, a, b)\n",
    "    #romberg integration\n",
    "    for k in range(2, i + 2):\n",
    "        j = 2 + i - k\n",
    "        Integ[j-1, k-1] = (4 ** (k - 1) * Integ[j, k - 2] - Integ[j-1, k - 2]) / (4 ** (k - 1) - 1)\n",
    "    \n",
    "    \n",
    "    ea = abs((Integ[0, i] - Integ[1, i-1]) / Integ[0, i]) * 100\n",
    "    et = abs((1.71828 - Integ[0, i]) / 1.7182) * 100\n",
    "    print ('%f \\t %f \\t %f \\t %f'% (i, ea, et, Integ[0,i]))\n",
    "    i += 1"
   ]
  }
 ],
 "metadata": {
  "kernelspec": {
   "display_name": "Python 3",
   "language": "python",
   "name": "python3"
  },
  "language_info": {
   "codemirror_mode": {
    "name": "ipython",
    "version": 3
   },
   "file_extension": ".py",
   "mimetype": "text/x-python",
   "name": "python",
   "nbconvert_exporter": "python",
   "pygments_lexer": "ipython3",
   "version": "3.8.5"
  }
 },
 "nbformat": 4,
 "nbformat_minor": 2
}

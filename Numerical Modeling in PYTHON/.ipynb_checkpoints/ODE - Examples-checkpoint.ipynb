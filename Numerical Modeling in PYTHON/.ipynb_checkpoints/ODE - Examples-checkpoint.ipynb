{
 "cells": [
  {
   "cell_type": "markdown",
   "metadata": {},
   "source": [
    "## Examples"
   ]
  },
  {
   "cell_type": "code",
   "execution_count": 1,
   "metadata": {},
   "outputs": [],
   "source": [
    "#Example1\n",
    "dy = lambda x,y: x * math.sqrt(y)\n",
    "f = lambda x: (1+0.25*x**2)**2\n",
    "y = 4; x = 2\n",
    "xi = 2; xf = 7\n",
    "\n",
    "#Example2\n",
    "dy = lambda t,y: math.sin(t)**2*y\n",
    "f = lambda t: 2*math.exp(0.5*(t-math.sin(t)*math.cos(t)))\n",
    "y = 2; x = 0\n",
    "xi = 0; xf = 5\n",
    "\n",
    "#Example3\n",
    "dy = lambda x,y: 2*y\n",
    "f = lambda x: math.exp(2*x)\n",
    "y = 1; x = 0\n",
    "xi = 0; xf=1\n",
    "\n",
    "#Example#4\n",
    "dy = lambda x,y: x*y\n",
    "f = lambda x: math.exp(x**2/2)\n",
    "y=1; x = 0\n",
    "xf = 2\n",
    "\n",
    "#Example#5\n",
    "dy = lambda x,y: y+3\n",
    "f = lambda x: math.exp(x-2) - 3\n",
    "y=-2; x = 2\n",
    "xi = 2; xf = 4\n"
   ]
  }
 ],
 "metadata": {
  "kernelspec": {
   "display_name": "Python 3",
   "language": "python",
   "name": "python3"
  },
  "language_info": {
   "codemirror_mode": {
    "name": "ipython",
    "version": 3
   },
   "file_extension": ".py",
   "mimetype": "text/x-python",
   "name": "python",
   "nbconvert_exporter": "python",
   "pygments_lexer": "ipython3",
   "version": "3.8.5"
  }
 },
 "nbformat": 4,
 "nbformat_minor": 4
}

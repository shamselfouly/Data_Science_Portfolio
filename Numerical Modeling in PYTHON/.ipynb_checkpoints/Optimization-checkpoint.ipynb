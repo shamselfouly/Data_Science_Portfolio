{
 "cells": [
  {
   "cell_type": "markdown",
   "metadata": {},
   "source": [
    "# Optimization"
   ]
  },
  {
   "cell_type": "markdown",
   "metadata": {},
   "source": [
    "## Gold Section Search"
   ]
  },
  {
   "cell_type": "code",
   "execution_count": 20,
   "metadata": {},
   "outputs": [
    {
     "name": "stdout",
     "output_type": "stream",
     "text": [
      "x  \t\t ea \t\t xopt\n",
      "1.000000 \t 41.861070 \t -2.819660\n",
      "2.000000 \t 22.305090 \t -3.270510\n",
      "3.000000 \t 13.785304 \t -3.270510\n",
      "4.000000 \t 8.519786 \t -3.270510\n",
      "5.000000 \t 5.099564 \t -3.376941\n",
      "6.000000 \t 3.151704 \t -3.376941\n",
      "7.000000 \t 1.971595 \t -3.336288\n",
      "8.000000 \t 1.218513 \t -3.336288\n",
      "9.000000 \t 0.753082 \t -3.336288\n",
      "10.000000 \t 0.465430 \t -3.336288\n",
      "11.000000 \t 0.287652 \t -3.336288\n",
      "12.000000 \t 0.177974 \t -3.332622\n",
      "13.000000 \t 0.109994 \t -3.332622\n",
      "14.000000 \t 0.067952 \t -3.334022\n"
     ]
    }
   ],
   "source": [
    "#########################\n",
    "#Function\n",
    "f = lambda x: 4 - x ** 2 - 0.2 * x ** 3\n",
    "\n",
    "#Initial guess\n",
    "xl = -4; xu = 1\n",
    "#########################\n",
    "\n",
    "print ('x  \\t\\t ea \\t\\t xopt')   \n",
    "ea = 100; i = 1\n",
    "#Create initial interior pts. x1 & x2 & Evaluate Function at each point\n",
    "R = (5 ** 0.5 - 1) / 2\n",
    "D = R * (xu - xl)\n",
    "x1 = xl + D\n",
    "x2 = xu - D\n",
    "f1 = f(x1)\n",
    "f2 = f(x2)\n",
    "\n",
    "#Golden-Section Search Method\n",
    "while ea > 0.1:\n",
    "    D = R * D    \n",
    "    if f1 < f2:\n",
    "        xl = x2\n",
    "        x2 = x1\n",
    "        f2 = f1\n",
    "        x1 = xl + D\n",
    "        f1 = f(x1)\n",
    "    else:\n",
    "        xu = x1\n",
    "        x1 = x2\n",
    "        f1 = f2\n",
    "        x2 = xu - D\n",
    "        f2 = f(x2)\n",
    "        \n",
    "    if f1 < f2:\n",
    "        xopt = x1\n",
    "    else:\n",
    "        xopt = x2\n",
    "    \n",
    "    ea = (1 - R) * abs((xu - xl) / xopt) * 100\n",
    "    print ('%f \\t %f \\t %f'% (i, ea, xopt))\n",
    "    i += 1        "
   ]
  },
  {
   "cell_type": "markdown",
   "metadata": {},
   "source": [
    "## Newton Raphson"
   ]
  },
  {
   "cell_type": "code",
   "execution_count": 19,
   "metadata": {},
   "outputs": [
    {
     "name": "stdout",
     "output_type": "stream",
     "text": [
      "x  \t\t ea \t\t xr\n",
      "1.000000 \t 175.000000 \t 0.750000\n",
      "2.000000 \t 63.362069 \t 0.116379\n",
      "3.000000 \t 11.258127 \t 0.003798\n",
      "4.000000 \t 0.379372 \t 0.000004\n",
      "5.000000 \t 0.000432 \t 0.000000\n"
     ]
    }
   ],
   "source": [
    "#########################\n",
    "#Function\n",
    "f = lambda x: -2*x -0.6*x**2\n",
    "dy = lambda x: -2 -1.2*x\n",
    "\n",
    "#Initial guess\n",
    "xi = -1\n",
    "#########################\n",
    "\n",
    "ea = 100; i = 1\n",
    "print ('x  \\t\\t ea \\t\\t xr') \n",
    "\n",
    "while ea > 0.1:\n",
    "    #Newton Raphson root finding formula\n",
    "    xr = xi - (f(xi) / dy(xi))\n",
    "    \n",
    "    #Calculate relative error due to zero root\n",
    "    ea = abs((xr - xi))*100\n",
    "    \n",
    "    #Store root for next iteration\n",
    "    xi = xr\n",
    "    \n",
    "    print ('%f \\t %f \\t %f'% (i, ea, xr))\n",
    "    i += 1"
   ]
  },
  {
   "cell_type": "code",
   "execution_count": null,
   "metadata": {},
   "outputs": [],
   "source": []
  }
 ],
 "metadata": {
  "kernelspec": {
   "display_name": "Python 3",
   "language": "python",
   "name": "python3"
  },
  "language_info": {
   "codemirror_mode": {
    "name": "ipython",
    "version": 3
   },
   "file_extension": ".py",
   "mimetype": "text/x-python",
   "name": "python",
   "nbconvert_exporter": "python",
   "pygments_lexer": "ipython3",
   "version": "3.7.4"
  }
 },
 "nbformat": 4,
 "nbformat_minor": 2
}
